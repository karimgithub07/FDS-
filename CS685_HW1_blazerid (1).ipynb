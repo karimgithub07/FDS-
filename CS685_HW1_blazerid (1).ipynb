{
 "cells": [
  {
   "cell_type": "markdown",
   "id": "0e44bb28-c372-46e2-b9f4-73fc3c92dd97",
   "metadata": {},
   "source": [
    "# CS 685/785: Coding Assignment 1\n",
    "\n",
    "**Spring 2025&mdash;Prof. Brandon Oubre**\n",
    "\n",
    "In this assignment, you will gain familiarity with the central limit theorem, data visualization and hypothesis testing.\n",
    "\n",
    "This assignment is worth a total of 80 points for CS 685 students. (40 points for CS 785 students.)"
   ]
  },
  {
   "cell_type": "markdown",
   "id": "3efa0289-8ff4-4eb2-9370-a11a664b7815",
   "metadata": {},
   "source": [
    "## Academic Integrity Declaration\n",
    "\n",
    "**I declare that:**\n",
    "- **I have completed this assignment entirely on my own.**\n",
    "- **I understand and have complied with the course policy on the use of AI tools.**\n",
    "- **I have read the UAB Academic Integrity Code and understand that any breach of this code may result in severe penalties, including failure of the class.**\n",
    "\n",
    "Name: <u>*__You should edit this markdown cell (double-click) to include your name here as an acknowledgement of the academic integrity declaration.__*</u>"
   ]
  },
  {
   "cell_type": "markdown",
   "id": "88bee600-f5d8-4396-af6f-ff66e07ad9f8",
   "metadata": {},
   "source": [
    "## Reminder on the Use of AI Tools\n",
    "For coding assignments, you are permitted limited use of AI tools within the bounds of the policy in the syllabus. In broad strokes, you must:\n",
    "- Include the prompt you used to generate the code\n",
    "- Include the original code resulting from the prompt\n",
    "- Include a citation to the tool used\n",
    "- Be able to explain any code submitted as part of this assignment\n",
    "  \n",
    "<u>You have the ultimate responsibility for the correctness and clarity of any code submitted as part of this assignment.</u> You should thereore understand it, test it, debug it, revise/improve it, and document it.\n",
    "\n",
    "<u>**You should not use AI to respond to the written prompts asking you to analyze or interpret your results.**</u>"
   ]
  },
  {
   "cell_type": "markdown",
   "id": "a5c926a8-0caf-4ae7-9ad2-2ed139d26f41",
   "metadata": {},
   "source": [
    "## Imports\n",
    "\n",
    "Do not import additional libraries unless specified by the assignment prompts. When permitted, those imports should not be added here but rather be included as part of your solution."
   ]
  },
  {
   "cell_type": "code",
   "execution_count": null,
   "id": "ae9609ff-f419-4c01-89ef-c86cf50c9bc7",
   "metadata": {},
   "outputs": [],
   "source": [
    "import os\n",
    "from tqdm.auto import tqdm\n",
    "\n",
    "import numpy as np\n",
    "import pandas as pd\n",
    "from scipy import stats\n",
    "\n",
    "import matplotlib.pyplot as plt\n",
    "import seaborn as sns"
   ]
  },
  {
   "cell_type": "markdown",
   "id": "b6d140ed-bf6e-415f-8938-25c1b23f8a4b",
   "metadata": {},
   "source": [
    "## Loading the Data\n",
    "\n",
    "The data is assumed to be stored in a `data/` folder in the same directory as this notebook."
   ]
  },
  {
   "cell_type": "code",
   "execution_count": null,
   "id": "e302ee47-3eee-4ed7-a012-a1318bffdbff",
   "metadata": {},
   "outputs": [],
   "source": [
    "data_dir = os.path.abspath('data/')\n",
    "print(f'The data directory is: {data_dir}')"
   ]
  },
  {
   "cell_type": "code",
   "execution_count": null,
   "id": "d2b742fb-ea02-490a-87b8-7c534740f9a6",
   "metadata": {},
   "outputs": [],
   "source": [
    "file_paths = [\n",
    "    os.path.join(data_dir, f) for f in os.listdir(data_dir)\n",
    "    if os.path.splitext(f)[1].lower() == '.xpt'\n",
    "]\n",
    "data_files = [pd.read_sas(f) for f in tqdm(file_paths, desc='Loading Data')]\n",
    "\n",
    "# Merge all the data files into a single DataFrame \n",
    "data = data_files[0]\n",
    "for df in tqdm(data_files[1:], desc='Merging Data'):\n",
    "    data = pd.merge(data, df, how='outer', on='SEQN', validate='1:1')  # Outer join is important; do not want to drop data missing in one file but not others\n",
    "\n",
    "print('The data frame has {} rows and {} columns'.format(*data.shape))\n",
    "\n",
    "if data['SEQN'].duplicated().sum() > 0:\n",
    "    print('WARNING: The data has duplicated identifiers. Something is wrong.')"
   ]
  },
  {
   "cell_type": "markdown",
   "id": "f2b4d429-bfe9-41df-9e35-f719de10aa29",
   "metadata": {},
   "source": [
    "## Data Set Documentation\n",
    "\n",
    "You may find the following documentation links helpful for interpreting the subset of NHANES data used in this assignment:\n",
    "\n",
    "- [Demographic Variables and Sample Weights (DEMO_L)](https://wwwn.cdc.gov/Nchs/Data/Nhanes/Public/2021/DataFiles/DEMO_L.htm)\n",
    "- [Body Measures (BMX_L)](https://wwwn.cdc.gov/Nchs/Data/Nhanes/Public/2021/DataFiles/BMX_L.htm)\n",
    "- [Cholesterol – High-Density Lipoprotein (HDL_L)](https://wwwn.cdc.gov/Nchs/Data/Nhanes/Public/2021/DataFiles/HDL_L.htm)\n",
    "- [Blood Pressure - Oscillometric Measurements (BPXO_L)](https://wwwn.cdc.gov/Nchs/Data/Nhanes/Public/2021/DataFiles/BPXO_L.htm)"
   ]
  },
  {
   "cell_type": "markdown",
   "id": "b3c67c9d-f4e2-4c53-a9c5-2ea64e0d86a7",
   "metadata": {},
   "source": [
    "## Problem 1\n",
    "\n",
    "In this problem, we will empirically observe the Central Limit Theorem.\n",
    "\n",
    "First, we create an `hdl_cholesterol` array that contains the amount of cholesterol (mg/dL) in participants' blood during laboratory tests."
   ]
  },
  {
   "cell_type": "code",
   "execution_count": null,
   "id": "9c6b0142-4180-434d-a746-6df399d7699a",
   "metadata": {},
   "outputs": [],
   "source": [
    "hdl_cholesterol = data['LBDHDD'].dropna().to_numpy()"
   ]
  },
  {
   "cell_type": "markdown",
   "id": "41f07a63-ddac-4fff-a6c1-e49f5c664d22",
   "metadata": {},
   "source": [
    "### Problem 1.1 [10 points]\n",
    "\n",
    "Let $X$ be a random variable that takes on the values in `hdl_cholesterol` with equal probability. We will create a new random variable $Y_n=\\frac{1}{n}\\sum_{i=1}^{n}x_i$ that represents the mean of $n$ samples $x_i$ drawn from $X$.\n",
    "\n",
    "Create a function (call it `hdl_means`) that takes an argument `n` and returns an array containing **10,000 samples drawn from $Y_n$**.\n",
    "\n",
    "*Hint: You may use `np.random.choice`. You should think about how to avoid explicitly looping in Python if you want your code to run quickly.*"
   ]
  },
  {
   "cell_type": "code",
   "execution_count": null,
   "id": "ad948be4-2174-4dc3-9a83-bcf7ae4c3f06",
   "metadata": {},
   "outputs": [],
   "source": []
  },
  {
   "cell_type": "markdown",
   "id": "ce5576c2-6e6e-494e-8435-da0bbd48a5b0",
   "metadata": {},
   "source": [
    "### Problem 1.2 [10 points]\n",
    "Create a plot with three subplots on a single row. Each plot should contain a histogram that shows the approximate distribution of $Y_n$ (i.e., the result of your `hdl_means` function).\n",
    "The leftmost plot should display $Y_{10}$, the middle plot should display $Y_{30}$, and the right plot should display $Y_{100}$.\n",
    "In each histogram, plot a vertical black line at the mean using `axvline`.\n",
    "\n",
    "Ensure that the histograms are directly comparable (e.g., **same** bins, normalized heights, same y axes). Remember to label your axes. A bin width of 1 should show sufficient detail to compare the distributions."
   ]
  },
  {
   "cell_type": "code",
   "execution_count": null,
   "id": "d38a6aa2-58f2-4afb-812d-9784a36bf496",
   "metadata": {},
   "outputs": [],
   "source": []
  },
  {
   "cell_type": "markdown",
   "id": "94209105-86bd-4143-8c3d-d7fe05982d7f",
   "metadata": {},
   "source": [
    "### Problem 1.3 [8 points]\n",
    "In written language (use a Markdown cell), explain how the Central Limit Theorem predicts what you observed above. (Be sure to consider the distribution, the mean, and the standard deviation.)\n",
    "\n",
    "**NO AI USE ALLOWED FOR THIS QUESTION**"
   ]
  },
  {
   "cell_type": "markdown",
   "id": "b7bcf69f-04db-4fb6-90f4-351b1352c25f",
   "metadata": {},
   "source": [
    "Write your answer here"
   ]
  },
  {
   "cell_type": "markdown",
   "id": "959ab0f4-d813-45ee-b229-bc39c977ef44",
   "metadata": {},
   "source": [
    "### Problem 1.4 [6 points]\n",
    "For each of $Y_{10}$, $Y_{30}$, and $Y_{100}$, compute the theoretical mean and standard deviation using the Central Limit Theorem. (You may use the empirical value of the mean and standard deviation of $X$, i.e., `hdl_cholesterol`. NumPy has functions for this.)\n",
    "\n",
    "Then, compute the absolute difference between each theoretical value and the emprically-obtained value (shown by your histograms). Print out each absolute difference in scientific notation. (If your difference is `diff`, then you can format the string as `'{diff:.2e}'`.) Be sure to specify the parameter and distribution corresponding to each difference.\n",
    "\n",
    "*Hint: You should report six differences, as you are considering two paramaters for three distributions.*"
   ]
  },
  {
   "cell_type": "code",
   "execution_count": null,
   "id": "fa0f3b24-bcb8-4c03-a8ca-e8d0347efa62",
   "metadata": {},
   "outputs": [],
   "source": []
  },
  {
   "cell_type": "markdown",
   "id": "fd6549db-ae49-4dc3-9633-d0fc640ff68f",
   "metadata": {},
   "source": [
    "## Problem 2\n",
    "\n",
    "In this problem, we will compare the heights of men and women.\n",
    "\n",
    "To start, we will curate a subset of the data for your use.\n",
    "The `male` and `female` arrays contain Boolean flags about the sex of each participant. The `height` array contains the height of each participant in centimeters.\n",
    "The $i^{th}$ entry in each array corresponds to the $i^{th}$ participant."
   ]
  },
  {
   "cell_type": "code",
   "execution_count": null,
   "id": "20542523-9d0b-475b-a0c4-c079a02682da",
   "metadata": {},
   "outputs": [],
   "source": [
    "prompt2_subset = data[['RIAGENDR', 'RIDAGEYR', 'BMXHT']].dropna()\n",
    "prompt2_subset = prompt2_subset.loc[prompt2_subset['RIDAGEYR'] >= 18]  # Remove pediatric data\n",
    "\n",
    "male = (prompt2_subset['RIAGENDR'] == 1).to_numpy()\n",
    "female = (prompt2_subset['RIAGENDR'] == 2).to_numpy()\n",
    "height = prompt2_subset['BMXHT'].to_numpy()"
   ]
  },
  {
   "cell_type": "markdown",
   "id": "2d495a7c-b62e-4008-a314-7529a235afcd",
   "metadata": {},
   "source": [
    "### Problem 2.1 [10 points]\n",
    "\n",
    "Create a single plot with no subplots containing two box plots. One subfigure should show a boxplot of heights for men. The other should show a boxplot of heights for women.\n",
    "\n",
    "Remember to label the axis correspond to participant height. The text specifying which group each box plot corresponds to (i.e., the tick labels) should read \"Male\" and \"Female\"."
   ]
  },
  {
   "cell_type": "code",
   "execution_count": null,
   "id": "ae222291-c992-4452-a00c-9127a459d168",
   "metadata": {},
   "outputs": [],
   "source": []
  },
  {
   "cell_type": "markdown",
   "id": "d90be50f-f247-4a18-85a7-dc0b9b99fcab",
   "metadata": {},
   "source": [
    "### Problem 2.2 [6 points]\n",
    "You should see a difference in the above plot. Let us now test the hypothesis that a difference actually exists. Use `scipy.stats.ttest_ind` with `equal_var=False` to perform a Welch's $t$-test."
   ]
  },
  {
   "cell_type": "code",
   "execution_count": null,
   "id": "120704fb-1869-431e-a6d4-35fe73cb25b3",
   "metadata": {},
   "outputs": [],
   "source": []
  },
  {
   "cell_type": "markdown",
   "id": "1dfc3eee-6e48-437b-8ad8-13dcfaceb319",
   "metadata": {},
   "source": [
    "### Problem 2.3 [6 points]\n",
    "Assume $\\alpha=0.01$. In written language (use a Markdown cell), interpret this result in terms of the null hypothesis and explain your reasoning. What do you ultimately conclude?\n",
    "\n",
    "**NO AI USE ALLOWED FOR THIS QUESTION**"
   ]
  },
  {
   "cell_type": "markdown",
   "id": "70d050cd-3d43-47cc-ad6a-2b4f180c0705",
   "metadata": {},
   "source": [
    "Write your answer here"
   ]
  },
  {
   "cell_type": "markdown",
   "id": "7fb7c4c8-f62d-4f6a-810f-6cd709c3626b",
   "metadata": {},
   "source": [
    "## Problem 3\n",
    "In this question, we will investigate whether there is association between blood pressure and age.\n",
    "\n",
    "Let us again curate a subset of data for your use. `systolic` and `diastolic` are systolic (during heartbeats) and diastolic (between heartbeats) pressures, respectively. `age` is, of course, participant age."
   ]
  },
  {
   "cell_type": "code",
   "execution_count": null,
   "id": "c42a62da-87c4-4364-b4df-dc9ec868b803",
   "metadata": {},
   "outputs": [],
   "source": [
    "prompt3_subset = data[['BPXOSY1', 'BPXODI1', 'RIDAGEYR']].dropna()\n",
    "systolic = prompt3_subset['BPXOSY1'].to_numpy()\n",
    "diastolic = prompt3_subset['BPXODI1'].to_numpy()\n",
    "age = prompt3_subset['RIDAGEYR'].to_numpy()"
   ]
  },
  {
   "cell_type": "markdown",
   "id": "7bf8172b-b1a9-41cf-9755-afaef743f9a8",
   "metadata": {},
   "source": [
    "### Problem 3.1 [10 points]\n",
    "Create a plot with three subplots in a single row. Each subplot should be a scatter plot between two of the three variables being investigated (systoloc pressure, diastolic pressure, and age). Remember to label your axes."
   ]
  },
  {
   "cell_type": "code",
   "execution_count": null,
   "id": "ff4b6542-27ee-4aff-a8fe-cd737c022c91",
   "metadata": {},
   "outputs": [],
   "source": []
  },
  {
   "cell_type": "markdown",
   "id": "918bae61-7acf-4b68-9bc0-c1ad8e45b092",
   "metadata": {},
   "source": [
    "### Problem 3.2 [6 points]\n",
    "Use `scipy.stats.pearsonr` too compute the correlation between each pair of variables."
   ]
  },
  {
   "cell_type": "code",
   "execution_count": null,
   "id": "26a068b9-704c-4299-8e75-a79cb9472e8e",
   "metadata": {},
   "outputs": [],
   "source": []
  },
  {
   "cell_type": "markdown",
   "id": "a5c708ad-91eb-42a8-aa59-c07eddf5ca73",
   "metadata": {},
   "source": [
    "### Problem 3.3 [8 points]\n",
    "Interpret these correlations in writing (use a Markdown cell). Are there actually associations between each pair of variables? Looking at your scatter plots, explain any differences in correlation observed between systolic pressure and age and between diastolic pressure and age.\n",
    "\n",
    "**NO AI USE ALLOWED FOR THIS QUESTION**"
   ]
  },
  {
   "cell_type": "markdown",
   "id": "177fbc7d-92d6-40d6-b67c-d6ecf6838ee9",
   "metadata": {},
   "source": [
    "Write your answer here"
   ]
  }
 ],
 "metadata": {
  "kernelspec": {
   "display_name": "Python 3 (ipykernel)",
   "language": "python",
   "name": "python3"
  },
  "language_info": {
   "codemirror_mode": {
    "name": "ipython",
    "version": 3
   },
   "file_extension": ".py",
   "mimetype": "text/x-python",
   "name": "python",
   "nbconvert_exporter": "python",
   "pygments_lexer": "ipython3",
   "version": "3.10.16"
  }
 },
 "nbformat": 4,
 "nbformat_minor": 5
}
